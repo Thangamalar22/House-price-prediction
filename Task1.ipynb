{
  "nbformat": 4,
  "nbformat_minor": 0,
  "metadata": {
    "colab": {
      "provenance": []
    },
    "kernelspec": {
      "name": "python3",
      "display_name": "Python 3"
    },
    "language_info": {
      "name": "python"
    }
  },
  "cells": [
    {
      "cell_type": "code",
      "execution_count": 1,
      "metadata": {
        "id": "6y_pGA-2hCzi"
      },
      "outputs": [],
      "source": [
        "import numpy as np\n",
        "import pandas as pd\n",
        "import matplotlib.pyplot as plt\n",
        "import seaborn as sns\n",
        "\n",
        "from sklearn.model_selection import train_test_split\n",
        "from sklearn.linear_model import LinearRegression\n",
        "from sklearn.metrics import mean_squared_error, r2_score\n"
      ]
    },
    {
      "cell_type": "code",
      "source": [
        "data = {\n",
        "    \"area\": [850, 1000, 1200, 1400, 1600, 1800, 2000, 2200, 2500, 2800, 3200, 3600],\n",
        "    \"bedrooms\": [2, 2, 3, 3, 3, 4, 4, 4, 5, 5, 6, 6],\n",
        "    \"bathrooms\": [1, 2, 2, 2, 3, 2, 3, 3, 3, 4, 4, 5],\n",
        "    \"price\": [120000, 150000, 180000, 200000, 220000, 240000, 270000, 300000,\n",
        "              350000, 400000, 450000, 500000]\n",
        "}\n",
        "\n",
        "df = pd.DataFrame(data)\n",
        "print(\"📌 Sample House Price Dataset:\")\n",
        "print(df.to_string(index=False))"
      ],
      "metadata": {
        "colab": {
          "base_uri": "https://localhost:8080/"
        },
        "id": "LS2lOSSdjfcv",
        "outputId": "cba0a233-4138-4a77-9340-22499ccd8039"
      },
      "execution_count": 4,
      "outputs": [
        {
          "output_type": "stream",
          "name": "stdout",
          "text": [
            "📌 Sample House Price Dataset:\n",
            " area  bedrooms  bathrooms  price\n",
            "  850         2          1 120000\n",
            " 1000         2          2 150000\n",
            " 1200         3          2 180000\n",
            " 1400         3          2 200000\n",
            " 1600         3          3 220000\n",
            " 1800         4          2 240000\n",
            " 2000         4          3 270000\n",
            " 2200         4          3 300000\n",
            " 2500         5          3 350000\n",
            " 2800         5          4 400000\n",
            " 3200         6          4 450000\n",
            " 3600         6          5 500000\n"
          ]
        }
      ]
    },
    {
      "cell_type": "code",
      "source": [
        "X = df[['area', 'bedrooms', 'bathrooms']]\n",
        "y = df['price']\n",
        "print(X.head())\n",
        "print(y.head());"
      ],
      "metadata": {
        "colab": {
          "base_uri": "https://localhost:8080/"
        },
        "id": "SnbjrpJKmF6s",
        "outputId": "5876c79a-f422-49f8-955b-a085c5d6eadc"
      },
      "execution_count": 7,
      "outputs": [
        {
          "output_type": "stream",
          "name": "stdout",
          "text": [
            "   area  bedrooms  bathrooms\n",
            "0   850         2          1\n",
            "1  1000         2          2\n",
            "2  1200         3          2\n",
            "3  1400         3          2\n",
            "4  1600         3          3\n",
            "0    120000\n",
            "1    150000\n",
            "2    180000\n",
            "3    200000\n",
            "4    220000\n",
            "Name: price, dtype: int64\n"
          ]
        }
      ]
    },
    {
      "cell_type": "code",
      "source": [
        "X_train, X_test, y_train, y_test = train_test_split(\n",
        "    X, y, test_size=0.2, random_state=42\n",
        ")\n",
        "\n",
        "print(\"📌 Training Data:\")\n",
        "print(X_train)\n",
        "print(\"\\n📌 Testing Data:\")\n",
        "print(X_test)\n",
        "\n"
      ],
      "metadata": {
        "colab": {
          "base_uri": "https://localhost:8080/"
        },
        "id": "JgHbfA_LmlZG",
        "outputId": "aca62dec-6f89-494d-9c87-20a4bdc25dd3"
      },
      "execution_count": 10,
      "outputs": [
        {
          "output_type": "stream",
          "name": "stdout",
          "text": [
            "📌 Training Data:\n",
            "    area  bedrooms  bathrooms\n",
            "8   2500         5          3\n",
            "5   1800         4          2\n",
            "2   1200         3          2\n",
            "1   1000         2          2\n",
            "11  3600         6          5\n",
            "4   1600         3          3\n",
            "7   2200         4          3\n",
            "3   1400         3          2\n",
            "6   2000         4          3\n",
            "\n",
            "📌 Testing Data:\n",
            "    area  bedrooms  bathrooms\n",
            "10  3200         6          4\n",
            "9   2800         5          4\n",
            "0    850         2          1\n"
          ]
        }
      ]
    },
    {
      "cell_type": "code",
      "source": [
        "model = LinearRegression()\n",
        "model.fit(X_train, y_train)\n",
        "\n",
        "print(\"✅ Model trained successfully!\")\n"
      ],
      "metadata": {
        "colab": {
          "base_uri": "https://localhost:8080/"
        },
        "id": "f7aAOW-pnBpX",
        "outputId": "178944f6-dad1-445b-a986-e5528903827c"
      },
      "execution_count": 12,
      "outputs": [
        {
          "output_type": "stream",
          "name": "stdout",
          "text": [
            "✅ Model trained successfully!\n"
          ]
        }
      ]
    },
    {
      "cell_type": "code",
      "source": [
        "y_pred = model.predict(X_test)\n",
        "\n",
        "print(\"📌 Predictions vs Actual:\")\n",
        "results = pd.DataFrame({\"Actual\": y_test, \"Predicted\": y_pred})\n",
        "print(results)\n"
      ],
      "metadata": {
        "colab": {
          "base_uri": "https://localhost:8080/"
        },
        "id": "Wyh4MhIUn_aA",
        "outputId": "4b30ade7-cceb-4f61-d913-5ec7aa24d1fb"
      },
      "execution_count": 14,
      "outputs": [
        {
          "output_type": "stream",
          "name": "stdout",
          "text": [
            "📌 Predictions vs Actual:\n",
            "    Actual      Predicted\n",
            "10  450000  439092.689295\n",
            "9   400000  387212.793734\n",
            "0   120000  119582.245431\n"
          ]
        }
      ]
    },
    {
      "cell_type": "code",
      "source": [
        "mse = mean_squared_error(y_test, y_pred)\n",
        "rmse = np.sqrt(mse)\n",
        "r2 = r2_score(y_test, y_pred)\n",
        "\n",
        "print(\"\\n📌 Model Evaluation:\")\n",
        "print(\"Mean Squared Error:\", mse)\n",
        "print(\"Root Mean Squared Error:\", rmse)\n",
        "print(\"R² Score:\", r2)\n"
      ],
      "metadata": {
        "colab": {
          "base_uri": "https://localhost:8080/"
        },
        "id": "yfL6_2NhoSwG",
        "outputId": "e3a4836c-3f60-4369-ffac-9ee755074e0c"
      },
      "execution_count": 16,
      "outputs": [
        {
          "output_type": "stream",
          "name": "stdout",
          "text": [
            "\n",
            "📌 Model Evaluation:\n",
            "Mean Squared Error: 94218863.26400417\n",
            "Root Mean Squared Error: 9706.640163517146\n",
            "R² Score: 0.9955322983699892\n"
          ]
        }
      ]
    },
    {
      "cell_type": "code",
      "source": [
        "# Example: 2500 sq ft, 3 bedrooms, 2 bathrooms\n",
        "new_house = [[2500, 3, 2]]\n",
        "predicted_price = model.predict(new_house)\n",
        "\n",
        "print(f\"\\n📌 Predicted Price for 2500 sq ft, 3BHK, 2 Bath: ${predicted_price[0]:,.2f}\")\n"
      ],
      "metadata": {
        "colab": {
          "base_uri": "https://localhost:8080/"
        },
        "id": "Mpp2yaOLohNW",
        "outputId": "15bce5dc-0a4c-49fb-9932-4ec625ad44ad"
      },
      "execution_count": 17,
      "outputs": [
        {
          "output_type": "stream",
          "name": "stdout",
          "text": [
            "\n",
            "📌 Predicted Price for 2500 sq ft, 3BHK, 2 Bath: $333,596.61\n"
          ]
        },
        {
          "output_type": "stream",
          "name": "stderr",
          "text": [
            "/usr/local/lib/python3.12/dist-packages/sklearn/utils/validation.py:2739: UserWarning: X does not have valid feature names, but LinearRegression was fitted with feature names\n",
            "  warnings.warn(\n"
          ]
        }
      ]
    },
    {
      "cell_type": "code",
      "source": [
        "# Reset index for plotting\n",
        "results = results.reset_index(drop=True)\n",
        "\n",
        "# Create bar graph\n",
        "bar_width = 0.35\n",
        "x = np.arange(len(results))  # positions\n",
        "\n",
        "plt.bar(x - bar_width/2, results['Actual'], width=bar_width, label='Actual')\n",
        "plt.bar(x + bar_width/2, results['Predicted'], width=bar_width, label='Predicted')\n",
        "\n",
        "plt.xlabel(\"Test Samples\")\n",
        "plt.ylabel(\"House Price\")\n",
        "plt.title(\"Actual vs Predicted House Prices (Bar Graph)\")\n",
        "plt.xticks(x, [f\"House {i+1}\" for i in range(len(results))])\n",
        "plt.legend()\n",
        "plt.show()\n",
        "\n"
      ],
      "metadata": {
        "colab": {
          "base_uri": "https://localhost:8080/",
          "height": 472
        },
        "id": "c38Gscc5onVE",
        "outputId": "bde8dc66-d16e-4c38-b8fa-01e6fed6a629"
      },
      "execution_count": 19,
      "outputs": [
        {
          "output_type": "display_data",
          "data": {
            "text/plain": [
              "<Figure size 640x480 with 1 Axes>"
            ],
            "image/png": "[encoded data removed]"
          },
          "metadata": {}
        }
      ]
    },
    {
      "cell_type": "code",
      "source": [],
      "metadata": {
        "id": "ASQYCBaNo7jt"
      },
      "execution_count": null,
      "outputs": []
    }
  ]
}